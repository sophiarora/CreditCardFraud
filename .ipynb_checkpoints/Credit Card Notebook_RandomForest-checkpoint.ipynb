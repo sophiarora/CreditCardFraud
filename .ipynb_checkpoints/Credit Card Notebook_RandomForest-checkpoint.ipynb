{
 "cells": [
  {
   "cell_type": "code",
   "execution_count": 1,
   "metadata": {
    "collapsed": true
   },
   "outputs": [],
   "source": [
    "import numpy as np\n",
    "import pandas as pd\n",
    "import matplotlib.pyplot as plt"
   ]
  },
  {
   "cell_type": "code",
   "execution_count": 2,
   "metadata": {},
   "outputs": [
    {
     "name": "stdout",
     "output_type": "stream",
     "text": [
      "/Users/MiroWang/Desktop/Github Repo/CreditFraudData\n"
     ]
    }
   ],
   "source": [
    "% cd /Users/MiroWang/Desktop/Github Repo/CreditFraudData"
   ]
  },
  {
   "cell_type": "code",
   "execution_count": 25,
   "metadata": {
    "collapsed": true
   },
   "outputs": [],
   "source": [
    "train_frame = pd.read_csv(\"train_frame_creditcard.csv\", index_col = 0)"
   ]
  },
  {
   "cell_type": "code",
   "execution_count": 27,
   "metadata": {},
   "outputs": [
    {
     "name": "stdout",
     "output_type": "stream",
     "text": [
      "(205060, 29) (51266, 29) (205060,) (51266,)\n"
     ]
    }
   ],
   "source": [
    "from sklearn.model_selection import StratifiedShuffleSplit\n",
    "X_rf = train_frame[train_frame.columns[:-1]].as_matrix()\n",
    "y_rf = train_frame['Class']\n",
    "\n",
    "strsplit = StratifiedShuffleSplit(n_splits=1, test_size=0.2, random_state=36)\n",
    "for train_index, test_index in strsplit.split(X_rf, y_rf):\n",
    "    X_train_rf, X_test_rf = X_rf[train_index], X_rf[test_index]\n",
    "    y_train_rf, y_test_rf = y_rf[train_index], y_rf[test_index]\n",
    "    \n",
    "print(X_train_rf.shape, X_test_rf.shape, y_train_rf.shape, y_test_rf.shape)"
   ]
  },
  {
   "cell_type": "code",
   "execution_count": 81,
   "metadata": {
    "collapsed": true
   },
   "outputs": [],
   "source": [
    "from sklearn.ensemble import RandomForestClassifier\n",
    "from sklearn.model_selection import GridSearchCV\n",
    "\n",
    "rfclf = RandomForestClassifier(class_weight = {0: 1, 1: 9})\n",
    "parameters = {'max_depth':[2, 5], 'n_estimators':[150, 180, 200]}\n",
    "rf = GridSearchCV(rfclf, parameters)\n"
   ]
  },
  {
   "cell_type": "code",
   "execution_count": 30,
   "metadata": {},
   "outputs": [
    {
     "name": "stdout",
     "output_type": "stream",
     "text": [
      "Fitting Time: 727.9189740290167 seconds\n"
     ]
    }
   ],
   "source": [
    "import timeit\n",
    "start = timeit.default_timer()\n",
    "rf.fit(X_train_rf, y_train_rf)\n",
    "stop = timeit.default_timer()\n",
    "print(\"Fitting Time: %s seconds\" % (stop - start))"
   ]
  },
  {
   "cell_type": "code",
   "execution_count": 31,
   "metadata": {
    "collapsed": true
   },
   "outputs": [],
   "source": [
    "y_score = rf.predict_proba(X_test_rf)"
   ]
  },
  {
   "cell_type": "code",
   "execution_count": 12,
   "metadata": {},
   "outputs": [
    {
     "data": {
      "text/plain": [
       "array([0.00233213, 0.00254527, 0.00242925, ..., 0.00258419, 0.00235098,\n",
       "       0.01545054])"
      ]
     },
     "execution_count": 12,
     "metadata": {},
     "output_type": "execute_result"
    }
   ],
   "source": []
  },
  {
   "cell_type": "code",
   "execution_count": 39,
   "metadata": {},
   "outputs": [
    {
     "data": {
      "image/png": "[encoded data removed]",
      "text/plain": [
       "<matplotlib.figure.Figure at 0x10d245c50>"
      ]
     },
     "metadata": {},
     "output_type": "display_data"
    }
   ],
   "source": [
    "from sklearn.metrics import accuracy_score, f1_score, roc_curve, auc, confusion_matrix, precision_score, recall_score\n",
    "\n",
    "fpr_rf, tpr_rf, threshold = roc_curve(y_test_rf, y_score[:,1])\n",
    "\n",
    "def plot_roc(fpr, tpr):\n",
    "    plt.figure()\n",
    "    lw = 2\n",
    "    plt.plot(fpr, tpr, color='darkorange',lw=lw, label='ROC curve (area = %0.2f)' % auc(fpr, tpr))\n",
    "    plt.plot([0, 1], [0, 1], color='navy', lw=lw, linestyle='--')\n",
    "    plt.xlim([0.0, 1.0])\n",
    "    plt.ylim([0.0, 1.05])\n",
    "    plt.xlabel('False Positive Rate')\n",
    "    plt.ylabel('True Positive Rate')\n",
    "    plt.title('Receiver operating characteristic example')\n",
    "    plt.legend(loc=\"lower right\")\n",
    "    plt.show()\n",
    "    \n",
    "plot_roc(fpr_rf, tpr_rf)"
   ]
  },
  {
   "cell_type": "code",
   "execution_count": 79,
   "metadata": {},
   "outputs": [
    {
     "name": "stdout",
     "output_type": "stream",
     "text": [
      "cost of random forest classifier 18010\n"
     ]
    }
   ],
   "source": [
    "rf_cm = confusion_matrix(y_test_rf, rf.predict(X_test_rf))\n",
    "print (\"cost of random forest classifier %s\" % (rf_cm[0][1]*1 + rf_cm[1][0]*1000))"
   ]
  },
  {
   "cell_type": "code",
   "execution_count": 34,
   "metadata": {},
   "outputs": [
    {
     "data": {
      "text/plain": [
       "array([[51167,    10],\n",
       "       [   18,    71]])"
      ]
     },
     "execution_count": 34,
     "metadata": {},
     "output_type": "execute_result"
    }
   ],
   "source": [
    "rf_cm"
   ]
  },
  {
   "cell_type": "code",
   "execution_count": 35,
   "metadata": {},
   "outputs": [],
   "source": [
    "importances = rf.best_estimator_.feature_importances_\n",
    "indices = np.argsort(importances)"
   ]
  },
  {
   "cell_type": "code",
   "execution_count": 60,
   "metadata": {},
   "outputs": [],
   "source": [
    "def plot_import():\n",
    "    plt.figure()\n",
    "    plt.title(\"Feature importances\")\n",
    "    plt.barh(range(X_train_rf.shape[1]), importances[indices],color=\"orange\",align=\"center\", \n",
    "        tick_label = train_frame.columns[:-1][indices])\n",
    "    plt.show()"
   ]
  },
  {
   "cell_type": "code",
   "execution_count": 61,
   "metadata": {},
   "outputs": [
    {
     "data": {
      "image/png": "[encoded data removed]",
      "text/plain": [
       "<matplotlib.figure.Figure at 0x10b4a7d30>"
      ]
     },
     "metadata": {},
     "output_type": "display_data"
    }
   ],
   "source": [
    "plot_import()"
   ]
  },
  {
   "cell_type": "markdown",
   "metadata": {},
   "source": [
    "## Try use only important features and see if it will improve prediction results"
   ]
  },
  {
   "cell_type": "code",
   "execution_count": 63,
   "metadata": {},
   "outputs": [
    {
     "name": "stdout",
     "output_type": "stream",
     "text": [
      "Index(['V13', 'V25', 'V22', 'V24', 'V15', 'V23'], dtype='object')\n"
     ]
    }
   ],
   "source": [
    "drop_columns = train_frame.columns[:-1][indices][:6]\n",
    "print (drop_columns)"
   ]
  },
  {
   "cell_type": "code",
   "execution_count": 66,
   "metadata": {},
   "outputs": [],
   "source": [
    "new_train = train_frame.drop(drop_columns, axis = 1)"
   ]
  },
  {
   "cell_type": "code",
   "execution_count": 67,
   "metadata": {},
   "outputs": [
    {
     "name": "stdout",
     "output_type": "stream",
     "text": [
      "(205060, 23) (51266, 23) (205060,) (51266,)\n"
     ]
    }
   ],
   "source": [
    "X_rf2 = new_train[new_train.columns[:-1]].as_matrix()\n",
    "y_rf2 = new_train['Class']\n",
    "\n",
    "strsplit = StratifiedShuffleSplit(n_splits=1, test_size=0.2, random_state=36)\n",
    "for train_index, test_index in strsplit.split(X_rf2, y_rf2):\n",
    "    X_train_rf2, X_test_rf2 = X_rf2[train_index], X_rf2[test_index]\n",
    "    y_train_rf2, y_test_rf2 = y_rf2[train_index], y_rf2[test_index]\n",
    "    \n",
    "print(X_train_rf2.shape, X_test_rf2.shape, y_train_rf2.shape, y_test_rf2.shape)"
   ]
  },
  {
   "cell_type": "code",
   "execution_count": 69,
   "metadata": {
    "collapsed": true
   },
   "outputs": [],
   "source": [
    "rfclf2 = RandomForestClassifier(class_weight = {0: 1, 1: 9})\n",
    "rf2 = GridSearchCV(rfclf2, parameters)\n"
   ]
  },
  {
   "cell_type": "code",
   "execution_count": 71,
   "metadata": {},
   "outputs": [
    {
     "name": "stdout",
     "output_type": "stream",
     "text": [
      "Fitting Time: 608.1004449810134 seconds\n"
     ]
    }
   ],
   "source": [
    "start = timeit.default_timer()\n",
    "rf2.fit(X_train_rf2, y_train_rf2)\n",
    "stop = timeit.default_timer()\n",
    "print(\"Fitting Time: %s seconds\" % (stop - start))"
   ]
  },
  {
   "cell_type": "code",
   "execution_count": 72,
   "metadata": {
    "collapsed": true
   },
   "outputs": [],
   "source": [
    "y_score2 = rf2.predict_proba(X_test_rf2)"
   ]
  },
  {
   "cell_type": "code",
   "execution_count": 73,
   "metadata": {},
   "outputs": [
    {
     "data": {
      "image/png": "[encoded data removed]",
      "text/plain": [
       "<matplotlib.figure.Figure at 0x109f4b9b0>"
      ]
     },
     "metadata": {},
     "output_type": "display_data"
    }
   ],
   "source": [
    "fpr_rf2, tpr_rf2, threshold2 = roc_curve(y_test_rf2, y_score2[:,1])\n",
    "plot_roc(fpr_rf2, tpr_rf2)"
   ]
  },
  {
   "cell_type": "code",
   "execution_count": 77,
   "metadata": {},
   "outputs": [
    {
     "name": "stdout",
     "output_type": "stream",
     "text": [
      "cost of random forest classifier 18011\n"
     ]
    }
   ],
   "source": [
    "rf_cm2 = confusion_matrix(y_test_rf2, rf2.predict(X_test_rf2))\n",
    "print (\"cost of random forest classifier %s\" % (rf_cm2[0][1]*1 + rf_cm2[1][0]*1000))"
   ]
  },
  {
   "cell_type": "code",
   "execution_count": 78,
   "metadata": {},
   "outputs": [
    {
     "name": "stdout",
     "output_type": "stream",
     "text": [
      "[[51166    11]\n",
      " [   18    71]]\n"
     ]
    }
   ],
   "source": [
    "print(rf_cm2)"
   ]
  },
  {
   "cell_type": "code",
   "execution_count": 80,
   "metadata": {},
   "outputs": [
    {
     "name": "stdout",
     "output_type": "stream",
     "text": [
      "RandomForestClassifier(bootstrap=True, class_weight={0: 1, 1: 9},\n",
      "            criterion='gini', max_depth=5, max_features='auto',\n",
      "            max_leaf_nodes=None, min_impurity_decrease=0.0,\n",
      "            min_impurity_split=None, min_samples_leaf=1,\n",
      "            min_samples_split=2, min_weight_fraction_leaf=0.0,\n",
      "            n_estimators=180, n_jobs=1, oob_score=False, random_state=None,\n",
      "            verbose=0, warm_start=False)\n"
     ]
    }
   ],
   "source": [
    "print(rf2.best_estimator_)"
   ]
  }
 ],
 "metadata": {
  "kernelspec": {
   "display_name": "Python 3",
   "language": "python",
   "name": "python3"
  },
  "language_info": {
   "codemirror_mode": {
    "name": "ipython",
    "version": 3
   },
   "file_extension": ".py",
   "mimetype": "text/x-python",
   "name": "python",
   "nbconvert_exporter": "python",
   "pygments_lexer": "ipython3",
   "version": "3.5.3"
  }
 },
 "nbformat": 4,
 "nbformat_minor": 2
}
