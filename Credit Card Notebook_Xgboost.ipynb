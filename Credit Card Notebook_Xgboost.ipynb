{
 "cells": [
  {
   "cell_type": "markdown",
   "metadata": {},
   "source": [
    "# Credit Card Notebook_XGBoost"
   ]
  },
  {
   "cell_type": "code",
   "execution_count": 13,
   "metadata": {
    "collapsed": true
   },
   "outputs": [],
   "source": [
    "import pandas as pd\n",
    "import numpy as np\n",
    "import math\n",
    "import matplotlib.pyplot as plt\n",
    "\n",
    "from sklearn.model_selection import GridSearchCV\n",
    "from xgboost import XGBClassifier, plot_importance, DMatrix, plot_tree"
   ]
  },
  {
   "cell_type": "code",
   "execution_count": 14,
   "metadata": {},
   "outputs": [
    {
     "name": "stdout",
     "output_type": "stream",
     "text": [
      "/Users/MiroWang/Desktop/Github Repo/CreditFraudData\n"
     ]
    }
   ],
   "source": [
    "% cd /Users/MiroWang/Desktop/Github Repo/CreditFraudData"
   ]
  },
  {
   "cell_type": "code",
   "execution_count": 15,
   "metadata": {
    "collapsed": true
   },
   "outputs": [],
   "source": [
    "train_frame = pd.read_csv(\"train_frame_creditcard.csv\", index_col = 0)"
   ]
  },
  {
   "cell_type": "code",
   "execution_count": 16,
   "metadata": {},
   "outputs": [
    {
     "name": "stdout",
     "output_type": "stream",
     "text": [
      "(205060, 29) (51266, 29) (205060,) (51266,)\n"
     ]
    }
   ],
   "source": [
    "from sklearn.model_selection import StratifiedShuffleSplit\n",
    "X_xgb = train_frame[train_frame.columns[:-1]].as_matrix()\n",
    "y_xgb = train_frame['Class'].astype(\"int\")\n",
    "\n",
    "strsplit = StratifiedShuffleSplit(n_splits=1, test_size=0.2, random_state=36)\n",
    "for train_index, test_index in strsplit.split(X_xgb, y_xgb):\n",
    "    X_train_xgb, X_test_xgb = X_xgb[train_index], X_xgb[test_index]\n",
    "    y_train_xgb, y_test_xgb = y_xgb[train_index], y_xgb[test_index]\n",
    "    \n",
    "print(X_train_xgb.shape, X_test_xgb.shape, y_train_xgb.shape, y_test_xgb.shape)"
   ]
  },
  {
   "cell_type": "markdown",
   "metadata": {},
   "source": [
    "## First tune basic tree parameters\n",
    "\n",
    "xgbclf to tune basic tree parameters"
   ]
  },
  {
   "cell_type": "code",
   "execution_count": 52,
   "metadata": {
    "collapsed": true
   },
   "outputs": [],
   "source": [
    "xgbclf = XGBClassifier(scale_pos_weight = 999, silent = True, seed = 6, \\\n",
    "                       objective='binary:logistic', learning_rate =0.1,  max_depth=5,\n",
    " min_child_weight=1, gamma=0, subsample=0.8, colsample_bytree=0.8)\n",
    "parameters = {'n_estimators':[220, 240, 350], 'max_depth':[7, 9]}\n",
    "clf_search = GridSearchCV(xgbclf, parameters, scoring='roc_auc',n_jobs=4,iid=False, cv=5)"
   ]
  },
  {
   "cell_type": "code",
   "execution_count": 53,
   "metadata": {},
   "outputs": [
    {
     "name": "stdout",
     "output_type": "stream",
     "text": [
      "Fitting Time: 1494.8844428730008 seconds\n"
     ]
    }
   ],
   "source": [
    "import timeit\n",
    "start = timeit.default_timer()\n",
    "clf_search.fit(X_train_xgb, y_train_xgb)\n",
    "stop = timeit.default_timer()\n",
    "print(\"Fitting Time: %s seconds\" % (stop - start))"
   ]
  },
  {
   "cell_type": "code",
   "execution_count": 54,
   "metadata": {
    "collapsed": true
   },
   "outputs": [],
   "source": [
    "y_score = clf_search.predict_proba(X_test_xgb)"
   ]
  },
  {
   "cell_type": "code",
   "execution_count": 55,
   "metadata": {},
   "outputs": [
    {
     "data": {
      "image/png": "[encoded data removed]",
      "text/plain": [
       "<matplotlib.figure.Figure at 0x11735b780>"
      ]
     },
     "metadata": {},
     "output_type": "display_data"
    }
   ],
   "source": [
    "from sklearn.metrics import accuracy_score, f1_score, roc_curve, auc, confusion_matrix, precision_score, recall_score\n",
    "\n",
    "fpr_rf, tpr_rf, threshold = roc_curve(y_test_xgb, y_score[:,1])\n",
    "\n",
    "def plot_roc(fpr, tpr):\n",
    "    plt.figure()\n",
    "    lw = 2\n",
    "    plt.plot(fpr, tpr, color='darkorange',lw=lw, label='ROC curve (area = %0.2f)' % auc(fpr, tpr))\n",
    "    plt.plot([0, 1], [0, 1], color='navy', lw=lw, linestyle='--')\n",
    "    plt.xlim([0.0, 1.0])\n",
    "    plt.ylim([0.0, 1.05])\n",
    "    plt.xlabel('False Positive Rate')\n",
    "    plt.ylabel('True Positive Rate')\n",
    "    plt.title('Receiver operating characteristic xgboost')\n",
    "    plt.legend(loc=\"lower right\")\n",
    "    plt.show()\n",
    "    \n",
    "plot_roc(fpr_rf, tpr_rf)"
   ]
  },
  {
   "cell_type": "code",
   "execution_count": 56,
   "metadata": {},
   "outputs": [
    {
     "name": "stdout",
     "output_type": "stream",
     "text": [
      "cost of xgboost classifier 13008\n"
     ]
    },
    {
     "name": "stderr",
     "output_type": "stream",
     "text": [
      "/Users/MiroWang/anaconda/envs/python3/lib/python3.5/site-packages/sklearn/preprocessing/label.py:151: DeprecationWarning: The truth value of an empty array is ambiguous. Returning False, but in future this will result in an error. Use `array.size > 0` to check that an array is not empty.\n",
      "  if diff:\n"
     ]
    }
   ],
   "source": [
    "xgb_cm = confusion_matrix(y_test_xgb, clf_search.best_estimator_.predict(X_test_xgb))\n",
    "print (\"cost of xgboost classifier %s\" % (xgb_cm[0][1]*1 + xgb_cm[1][0]*1000))"
   ]
  },
  {
   "cell_type": "code",
   "execution_count": 57,
   "metadata": {},
   "outputs": [
    {
     "data": {
      "text/plain": [
       "array([[51169,     8],\n",
       "       [   13,    76]])"
      ]
     },
     "execution_count": 57,
     "metadata": {},
     "output_type": "execute_result"
    }
   ],
   "source": [
    "xgb_cm"
   ]
  },
  {
   "cell_type": "code",
   "execution_count": 51,
   "metadata": {},
   "outputs": [
    {
     "data": {
      "text/plain": [
       "XGBClassifier(base_score=0.5, booster='gbtree', colsample_bylevel=1,\n",
       "       colsample_bytree=0.8, gamma=0, learning_rate=0.1, max_delta_step=0,\n",
       "       max_depth=7, min_child_weight=1, missing=None, n_estimators=240,\n",
       "       n_jobs=1, nthread=None, objective='binary:logistic', random_state=0,\n",
       "       reg_alpha=0, reg_lambda=1, scale_pos_weight=999, seed=6,\n",
       "       silent=True, subsample=0.8)"
      ]
     },
     "execution_count": 51,
     "metadata": {},
     "output_type": "execute_result"
    }
   ],
   "source": [
    "clf_search.best_estimator_"
   ]
  },
  {
   "cell_type": "markdown",
   "metadata": {},
   "source": [
    "## Second tune the min_child_weight and gamma\n",
    "\n",
    "min_child_weight\"minimum number of instances needed to be in each node\"[xgboost documentation](http://xgboost.readthedocs.io/en/latest/parameter.html). As min_child_weight became larger, the model becomes more conservative."
   ]
  },
  {
   "cell_type": "code",
   "execution_count": 69,
   "metadata": {
    "collapsed": true
   },
   "outputs": [],
   "source": [
    "xgbclf2 = XGBClassifier(scale_pos_weight = 999, silent = True, seed = 6, \\\n",
    "                       objective='binary:logistic', learning_rate =0.1,  max_depth=7,\n",
    " n_estimators = 240, subsample=0.8, colsample_bytree=0.8)\n",
    "parameters = {'min_child_weight':[3, 5], 'gamma':[0.3, 0.5]}\n",
    "clf_search2 = GridSearchCV(xgbclf2, parameters, scoring='roc_auc',n_jobs=4,iid=False, cv=5)"
   ]
  },
  {
   "cell_type": "code",
   "execution_count": 70,
   "metadata": {},
   "outputs": [
    {
     "name": "stdout",
     "output_type": "stream",
     "text": [
      "Fitting Time: 883.6016382309972 seconds\n"
     ]
    }
   ],
   "source": [
    "import timeit\n",
    "start = timeit.default_timer()\n",
    "clf_search2.fit(X_train_xgb, y_train_xgb)\n",
    "stop = timeit.default_timer()\n",
    "print(\"Fitting Time: %s seconds\" % (stop - start))"
   ]
  },
  {
   "cell_type": "code",
   "execution_count": 71,
   "metadata": {},
   "outputs": [
    {
     "name": "stdout",
     "output_type": "stream",
     "text": [
      "cost of xgboost classifier 11011\n"
     ]
    },
    {
     "name": "stderr",
     "output_type": "stream",
     "text": [
      "/Users/MiroWang/anaconda/envs/python3/lib/python3.5/site-packages/sklearn/preprocessing/label.py:151: DeprecationWarning: The truth value of an empty array is ambiguous. Returning False, but in future this will result in an error. Use `array.size > 0` to check that an array is not empty.\n",
      "  if diff:\n"
     ]
    }
   ],
   "source": [
    "xgb_cm2 = confusion_matrix(y_test_xgb, clf_search2.best_estimator_.predict(X_test_xgb))\n",
    "print (\"cost of xgboost classifier %s\" % (xgb_cm2[0][1]*1 + xgb_cm2[1][0]*1000))"
   ]
  },
  {
   "cell_type": "code",
   "execution_count": 72,
   "metadata": {},
   "outputs": [
    {
     "data": {
      "text/plain": [
       "array([[51166,    11],\n",
       "       [   11,    78]])"
      ]
     },
     "execution_count": 72,
     "metadata": {},
     "output_type": "execute_result"
    }
   ],
   "source": [
    "xgb_cm2"
   ]
  },
  {
   "cell_type": "code",
   "execution_count": 73,
   "metadata": {},
   "outputs": [
    {
     "data": {
      "text/plain": [
       "XGBClassifier(base_score=0.5, booster='gbtree', colsample_bylevel=1,\n",
       "       colsample_bytree=0.8, gamma=0.3, learning_rate=0.1,\n",
       "       max_delta_step=0, max_depth=7, min_child_weight=5, missing=None,\n",
       "       n_estimators=240, n_jobs=1, nthread=None,\n",
       "       objective='binary:logistic', random_state=0, reg_alpha=0,\n",
       "       reg_lambda=1, scale_pos_weight=999, seed=6, silent=True,\n",
       "       subsample=0.8)"
      ]
     },
     "execution_count": 73,
     "metadata": {},
     "output_type": "execute_result"
    }
   ],
   "source": [
    "clf_search2.best_estimator_"
   ]
  },
  {
   "cell_type": "markdown",
   "metadata": {},
   "source": [
    "## Tune col_sample and consider using early stop to avoid overfit"
   ]
  },
  {
   "cell_type": "code",
   "execution_count": null,
   "metadata": {
    "collapsed": true
   },
   "outputs": [],
   "source": []
  }
 ],
 "metadata": {
  "kernelspec": {
   "display_name": "Python 3",
   "language": "python",
   "name": "python3"
  },
  "language_info": {
   "codemirror_mode": {
    "name": "ipython",
    "version": 3
   },
   "file_extension": ".py",
   "mimetype": "text/x-python",
   "name": "python",
   "nbconvert_exporter": "python",
   "pygments_lexer": "ipython3",
   "version": "3.5.3"
  }
 },
 "nbformat": 4,
 "nbformat_minor": 2
}
