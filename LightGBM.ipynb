{
 "cells": [
  {
   "cell_type": "code",
   "execution_count": 6,
   "metadata": {},
   "outputs": [],
   "source": [
    "import pandas as pd\n",
    "import numpy as np\n",
    "import lightgbm as lgb"
   ]
  },
  {
   "cell_type": "code",
   "execution_count": 1,
   "metadata": {},
   "outputs": [
    {
     "name": "stdout",
     "output_type": "stream",
     "text": [
      "/Users/MiroWang/Desktop/Github Repo/CreditFraudData\n"
     ]
    }
   ],
   "source": [
    "% cd /Users/MiroWang/Desktop/Github Repo/CreditFraudData"
   ]
  },
  {
   "cell_type": "code",
   "execution_count": 4,
   "metadata": {},
   "outputs": [],
   "source": [
    "train_frame = pd.read_csv(\"train_frame_creditcard.csv\", index_col = 0)"
   ]
  },
  {
   "cell_type": "code",
   "execution_count": 8,
   "metadata": {},
   "outputs": [
    {
     "data": {
      "text/html": [
       "<div>\n",
       "<style>\n",
       "    .dataframe thead tr:only-child th {\n",
       "        text-align: right;\n",
       "    }\n",
       "\n",
       "    .dataframe thead th {\n",
       "        text-align: left;\n",
       "    }\n",
       "\n",
       "    .dataframe tbody tr th {\n",
       "        vertical-align: top;\n",
       "    }\n",
       "</style>\n",
       "<table border=\"1\" class=\"dataframe\">\n",
       "  <thead>\n",
       "    <tr style=\"text-align: right;\">\n",
       "      <th></th>\n",
       "      <th>V1</th>\n",
       "      <th>V2</th>\n",
       "      <th>V3</th>\n",
       "      <th>V4</th>\n",
       "      <th>V5</th>\n",
       "      <th>V6</th>\n",
       "      <th>V7</th>\n",
       "      <th>V8</th>\n",
       "      <th>V9</th>\n",
       "      <th>V10</th>\n",
       "      <th>...</th>\n",
       "      <th>V21</th>\n",
       "      <th>V22</th>\n",
       "      <th>V23</th>\n",
       "      <th>V24</th>\n",
       "      <th>V25</th>\n",
       "      <th>V26</th>\n",
       "      <th>V27</th>\n",
       "      <th>V28</th>\n",
       "      <th>Amount</th>\n",
       "      <th>Class</th>\n",
       "    </tr>\n",
       "  </thead>\n",
       "  <tbody>\n",
       "    <tr>\n",
       "      <th>0</th>\n",
       "      <td>1.469616</td>\n",
       "      <td>-1.210507</td>\n",
       "      <td>-0.895114</td>\n",
       "      <td>0.431356</td>\n",
       "      <td>-0.393454</td>\n",
       "      <td>0.469515</td>\n",
       "      <td>-0.332457</td>\n",
       "      <td>0.087587</td>\n",
       "      <td>0.651264</td>\n",
       "      <td>0.108515</td>\n",
       "      <td>...</td>\n",
       "      <td>0.382005</td>\n",
       "      <td>0.605933</td>\n",
       "      <td>-0.092746</td>\n",
       "      <td>0.289221</td>\n",
       "      <td>-0.327196</td>\n",
       "      <td>0.305087</td>\n",
       "      <td>-0.065388</td>\n",
       "      <td>-0.003779</td>\n",
       "      <td>276.0</td>\n",
       "      <td>0.0</td>\n",
       "    </tr>\n",
       "    <tr>\n",
       "      <th>1</th>\n",
       "      <td>1.763565</td>\n",
       "      <td>-1.605059</td>\n",
       "      <td>-1.361477</td>\n",
       "      <td>-0.511961</td>\n",
       "      <td>-0.726936</td>\n",
       "      <td>0.068515</td>\n",
       "      <td>-0.555316</td>\n",
       "      <td>-0.006794</td>\n",
       "      <td>-0.208730</td>\n",
       "      <td>0.960155</td>\n",
       "      <td>...</td>\n",
       "      <td>-0.269096</td>\n",
       "      <td>-0.708707</td>\n",
       "      <td>-0.019668</td>\n",
       "      <td>-1.118800</td>\n",
       "      <td>-0.376816</td>\n",
       "      <td>0.587444</td>\n",
       "      <td>-0.084014</td>\n",
       "      <td>-0.038127</td>\n",
       "      <td>220.8</td>\n",
       "      <td>0.0</td>\n",
       "    </tr>\n",
       "    <tr>\n",
       "      <th>2</th>\n",
       "      <td>1.187114</td>\n",
       "      <td>-0.943974</td>\n",
       "      <td>0.461746</td>\n",
       "      <td>-0.659056</td>\n",
       "      <td>-1.184088</td>\n",
       "      <td>-0.518607</td>\n",
       "      <td>-0.649904</td>\n",
       "      <td>-0.157910</td>\n",
       "      <td>-0.606376</td>\n",
       "      <td>0.546170</td>\n",
       "      <td>...</td>\n",
       "      <td>0.349096</td>\n",
       "      <td>0.704269</td>\n",
       "      <td>-0.258595</td>\n",
       "      <td>-0.057980</td>\n",
       "      <td>0.490907</td>\n",
       "      <td>-0.088719</td>\n",
       "      <td>0.005842</td>\n",
       "      <td>0.039846</td>\n",
       "      <td>134.0</td>\n",
       "      <td>0.0</td>\n",
       "    </tr>\n",
       "    <tr>\n",
       "      <th>3</th>\n",
       "      <td>2.103784</td>\n",
       "      <td>0.040485</td>\n",
       "      <td>-1.435817</td>\n",
       "      <td>0.326887</td>\n",
       "      <td>0.362828</td>\n",
       "      <td>-0.728571</td>\n",
       "      <td>0.031434</td>\n",
       "      <td>-0.327776</td>\n",
       "      <td>2.134520</td>\n",
       "      <td>-0.454073</td>\n",
       "      <td>...</td>\n",
       "      <td>0.089526</td>\n",
       "      <td>0.629750</td>\n",
       "      <td>-0.003124</td>\n",
       "      <td>0.421897</td>\n",
       "      <td>0.349244</td>\n",
       "      <td>-0.473644</td>\n",
       "      <td>-0.026883</td>\n",
       "      <td>-0.057272</td>\n",
       "      <td>1.0</td>\n",
       "      <td>0.0</td>\n",
       "    </tr>\n",
       "    <tr>\n",
       "      <th>4</th>\n",
       "      <td>-0.898949</td>\n",
       "      <td>0.082977</td>\n",
       "      <td>1.178897</td>\n",
       "      <td>-3.118008</td>\n",
       "      <td>-0.806426</td>\n",
       "      <td>-0.243157</td>\n",
       "      <td>-0.531706</td>\n",
       "      <td>0.474555</td>\n",
       "      <td>-2.198213</td>\n",
       "      <td>0.348474</td>\n",
       "      <td>...</td>\n",
       "      <td>-0.175927</td>\n",
       "      <td>-0.148640</td>\n",
       "      <td>-0.326645</td>\n",
       "      <td>0.554915</td>\n",
       "      <td>0.732524</td>\n",
       "      <td>-0.140387</td>\n",
       "      <td>0.152625</td>\n",
       "      <td>0.053274</td>\n",
       "      <td>5.0</td>\n",
       "      <td>0.0</td>\n",
       "    </tr>\n",
       "  </tbody>\n",
       "</table>\n",
       "<p>5 rows × 30 columns</p>\n",
       "</div>"
      ],
      "text/plain": [
       "         V1        V2        V3        V4        V5        V6        V7  \\\n",
       "0  1.469616 -1.210507 -0.895114  0.431356 -0.393454  0.469515 -0.332457   \n",
       "1  1.763565 -1.605059 -1.361477 -0.511961 -0.726936  0.068515 -0.555316   \n",
       "2  1.187114 -0.943974  0.461746 -0.659056 -1.184088 -0.518607 -0.649904   \n",
       "3  2.103784  0.040485 -1.435817  0.326887  0.362828 -0.728571  0.031434   \n",
       "4 -0.898949  0.082977  1.178897 -3.118008 -0.806426 -0.243157 -0.531706   \n",
       "\n",
       "         V8        V9       V10  ...         V21       V22       V23  \\\n",
       "0  0.087587  0.651264  0.108515  ...    0.382005  0.605933 -0.092746   \n",
       "1 -0.006794 -0.208730  0.960155  ...   -0.269096 -0.708707 -0.019668   \n",
       "2 -0.157910 -0.606376  0.546170  ...    0.349096  0.704269 -0.258595   \n",
       "3 -0.327776  2.134520 -0.454073  ...    0.089526  0.629750 -0.003124   \n",
       "4  0.474555 -2.198213  0.348474  ...   -0.175927 -0.148640 -0.326645   \n",
       "\n",
       "        V24       V25       V26       V27       V28  Amount  Class  \n",
       "0  0.289221 -0.327196  0.305087 -0.065388 -0.003779   276.0    0.0  \n",
       "1 -1.118800 -0.376816  0.587444 -0.084014 -0.038127   220.8    0.0  \n",
       "2 -0.057980  0.490907 -0.088719  0.005842  0.039846   134.0    0.0  \n",
       "3  0.421897  0.349244 -0.473644 -0.026883 -0.057272     1.0    0.0  \n",
       "4  0.554915  0.732524 -0.140387  0.152625  0.053274     5.0    0.0  \n",
       "\n",
       "[5 rows x 30 columns]"
      ]
     },
     "execution_count": 8,
     "metadata": {},
     "output_type": "execute_result"
    }
   ],
   "source": [
    "train_frame.head()"
   ]
  },
  {
   "cell_type": "code",
   "execution_count": 9,
   "metadata": {
    "collapsed": true
   },
   "outputs": [],
   "source": [
    "from sklearn.model_selection import StratifiedShuffleSplit"
   ]
  },
  {
   "cell_type": "code",
   "execution_count": 12,
   "metadata": {
    "collapsed": true
   },
   "outputs": [],
   "source": [
    "X_gbm = train_frame[train_frame.columns[:-1]].as_matrix()\n",
    "y_gbm = train_frame['Class'].astype(\"int\")"
   ]
  },
  {
   "cell_type": "code",
   "execution_count": 16,
   "metadata": {},
   "outputs": [
    {
     "data": {
      "text/plain": [
       "0    255883\n",
       "1       443\n",
       "Name: Class, dtype: int64"
      ]
     },
     "execution_count": 16,
     "metadata": {},
     "output_type": "execute_result"
    }
   ],
   "source": [
    "y_gbm.value_counts()"
   ]
  },
  {
   "cell_type": "code",
   "execution_count": null,
   "metadata": {
    "collapsed": true
   },
   "outputs": [],
   "source": []
  }
 ],
 "metadata": {
  "kernelspec": {
   "display_name": "Python 3",
   "language": "python",
   "name": "python3"
  },
  "language_info": {
   "codemirror_mode": {
    "name": "ipython",
    "version": 3
   },
   "file_extension": ".py",
   "mimetype": "text/x-python",
   "name": "python",
   "nbconvert_exporter": "python",
   "pygments_lexer": "ipython3",
   "version": "3.5.3"
  }
 },
 "nbformat": 4,
 "nbformat_minor": 2
}
